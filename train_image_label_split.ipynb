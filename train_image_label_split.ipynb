{
 "cells": [
  {
   "cell_type": "markdown",
   "metadata": {},
   "source": [
    "# This code create the training Images of size 600 x 600 pixels and Converts JSON files to CSV files containing corresponding coordinate. \n",
    "## The images are saved to training_data/train_images folder\n",
    "## The labels are saved to training_data/train_labels\n",
    "## combined Labels are saved as single csv file in training_data/ folder"
   ]
  },
  {
   "cell_type": "code",
   "execution_count": 2,
   "metadata": {
    "collapsed": true
   },
   "outputs": [],
   "source": [
    "import os\n",
    "import scipy.misc as misc\n",
    "import numpy as np\n",
    "from copy import deepcopy\n",
    "import cv2 as cv\n",
    "import glob\n",
    "import json\n",
    "import pandas as pd\n",
    "import shutil\n",
    "from pandas.io.json import json_normalize"
   ]
  },
  {
   "cell_type": "code",
   "execution_count": 3,
   "metadata": {
    "collapsed": true
   },
   "outputs": [],
   "source": [
    "images = sorted(glob.glob('raw_data/raw_train_images/*.jpg'))\n",
    "labels = sorted(glob.glob('raw_data/raw_train_annotation/*.json'))"
   ]
  },
  {
   "cell_type": "code",
   "execution_count": 4,
   "metadata": {
    "collapsed": true
   },
   "outputs": [],
   "source": [
    "save_dir= os.path.join('training_data/')"
   ]
  },
  {
   "cell_type": "code",
   "execution_count": 5,
   "metadata": {},
   "outputs": [
    {
     "name": "stdout",
     "output_type": "stream",
     "text": [
      "find image 3\n",
      "find label 3\n"
     ]
    }
   ],
   "source": [
    "print ('find image', len(images))\n",
    "print ('find label', len(labels))"
   ]
  },
  {
   "cell_type": "code",
   "execution_count": 6,
   "metadata": {
    "collapsed": true
   },
   "outputs": [],
   "source": [
    "# function beflow crops the large image and annotation data to width x height pixels\n",
    "def clip_image(file_idx, image, df, width, height):\n",
    "    boxes_all= np.array(df.values.tolist())\n",
    "    columns= ['filename','width', 'height','category','x1','y1','x2','y2']\n",
    "    combined_df= pd.DataFrame(columns= columns)\n",
    "    print('image shape', image.shape)\n",
    "    if len(boxes_all) >0:\n",
    "        shape = image.shape\n",
    "        for start_h in range(0, shape[0], height):\n",
    "            for start_w in range(0, shape[1], width):\n",
    "                boxes = deepcopy(boxes_all)\n",
    "                box= np.zeros_like(boxes_all)\n",
    "                start_h_new = start_h\n",
    "                start_w_new = start_w\n",
    "                if start_h + height > shape[0]:\n",
    "                    start_h_new= shape[0] - height\n",
    "                if start_w + width > shape[1]:\n",
    "                    start_w_new = shape[1] - width\n",
    "                top_left_row = max(start_h_new, 0)\n",
    "                top_left_col = max(start_w_new, 0)\n",
    "                bottom_right_row = min(start_h + height, shape[0])\n",
    "                bottom_right_col = min(start_w + width, shape[1])\n",
    "                \n",
    "                subImage = image[top_left_row:bottom_right_row, top_left_col: bottom_right_col]\n",
    "                \n",
    "                # x co-ordinates of images \n",
    "                box[:, 4] = boxes[:, 4].astype('float64') - top_left_col\n",
    "                box[:, 6] = boxes[:, 6].astype('float64') - top_left_col\n",
    "                \n",
    "                # y co-ordinates of images\n",
    "                box[:, 5] = boxes[:, 5].astype('float64') - top_left_row\n",
    "                box[:, 7] = boxes[:, 7].astype('float64') - top_left_row\n",
    "                \n",
    "                center_y = 0.5*(box[:, 5].astype('float64') + box[:, 7].astype('float64'))\n",
    "                center_x = 0.5*(box[:, 4].astype('float64') + box[:, 6].astype('float64'))\n",
    "                \n",
    "                cond1 = np.intersect1d(np.where(center_y[:] >=0 )[0], np.where(center_x[:] >=0 )[0])\n",
    "                cond2 = np.intersect1d(np.where(center_y[:] <= (bottom_right_row - top_left_row))[0],\n",
    "                                        np.where(center_x[:] <= (bottom_right_col - top_left_col))[0])\n",
    "                idx = np.intersect1d(cond1, cond2)\n",
    "                \n",
    "                if len(idx)> 0:\n",
    "                    new_img_name= file_idx + '_' + str(top_left_row).zfill(5) + '_' + str(top_left_col).zfill(5) +'.jpg'\n",
    "                    split_df= df.loc[idx]\n",
    "                    split_df.iloc[:,0]= new_img_name\n",
    "                    split_df.iloc[:,1]= width\n",
    "                    split_df.iloc[:,2]= height\n",
    "                    split_df.iloc[:,4]= split_df.iloc[:,4] - top_left_col\n",
    "                    split_df.iloc[:,6]= split_df.iloc[:,6] - top_left_col\n",
    "                    split_df.iloc[:,5]= split_df.iloc[:,5] - top_left_row\n",
    "                    split_df.iloc[:,7]= split_df.iloc[:,7] - top_left_row\n",
    "                    lbl_name= os.path.join(save_dir, 'train_labels', \"%s_%05d_%05d.csv\" % (file_idx, top_left_row, top_left_col))\n",
    "                    split_df.to_csv(lbl_name, index= False)\n",
    "                    combined_df=combined_df.append(split_df,ignore_index=True)\n",
    "#                     print(lbl_name)\n",
    "#                     print(split_df)\n",
    "                    del(split_df)\n",
    "                    \n",
    "                    if subImage.shape[0] > 5 and subImage.shape[1] >5:\n",
    "                        img = os.path.join(save_dir, 'train_images', \"%s_%05d_%05d.jpg\" % (file_idx, top_left_row, top_left_col))\n",
    "                        cv.imwrite(img, subImage)\n",
    "#                         print(img)\n",
    "                        del(subImage)\n",
    "    return(combined_df)"
   ]
  },
  {
   "cell_type": "code",
   "execution_count": 7,
   "metadata": {},
   "outputs": [
    {
     "data": {
      "text/html": [
       "<div>\n",
       "<style>\n",
       "    .dataframe thead tr:only-child th {\n",
       "        text-align: right;\n",
       "    }\n",
       "\n",
       "    .dataframe thead th {\n",
       "        text-align: left;\n",
       "    }\n",
       "\n",
       "    .dataframe tbody tr th {\n",
       "        vertical-align: top;\n",
       "    }\n",
       "</style>\n",
       "<table border=\"1\" class=\"dataframe\">\n",
       "  <thead>\n",
       "    <tr style=\"text-align: right;\">\n",
       "      <th></th>\n",
       "      <th>filename</th>\n",
       "      <th>width</th>\n",
       "      <th>height</th>\n",
       "      <th>category</th>\n",
       "      <th>x1</th>\n",
       "      <th>y1</th>\n",
       "      <th>x2</th>\n",
       "      <th>y2</th>\n",
       "    </tr>\n",
       "  </thead>\n",
       "  <tbody>\n",
       "  </tbody>\n",
       "</table>\n",
       "</div>"
      ],
      "text/plain": [
       "Empty DataFrame\n",
       "Columns: [filename, width, height, category, x1, y1, x2, y2]\n",
       "Index: []"
      ]
     },
     "execution_count": 7,
     "metadata": {},
     "output_type": "execute_result"
    }
   ],
   "source": [
    "columns= ['filename','width', 'height','category','x1','y1','x2','y2']\n",
    "final_df= pd.DataFrame(columns= columns)\n",
    "final_df"
   ]
  },
  {
   "cell_type": "code",
   "execution_count": 8,
   "metadata": {
    "scrolled": true
   },
   "outputs": [
    {
     "name": "stderr",
     "output_type": "stream",
     "text": [
      "C:\\Users\\w24875.AD-HZM\\AppData\\Local\\Continuum\\anaconda3\\lib\\site-packages\\PIL\\Image.py:2438: DecompressionBombWarning: Image size (167691888 pixels) exceeds limit of 89478485 pixels, could be decompression bomb DOS attack.\n",
      "  DecompressionBombWarning)\n"
     ]
    },
    {
     "name": "stdout",
     "output_type": "stream",
     "text": [
      "image shape (12194, 13752, 3)\n"
     ]
    },
    {
     "name": "stderr",
     "output_type": "stream",
     "text": [
      "C:\\Users\\w24875.AD-HZM\\AppData\\Local\\Continuum\\anaconda3\\lib\\site-packages\\PIL\\Image.py:2438: DecompressionBombWarning: Image size (167688768 pixels) exceeds limit of 89478485 pixels, could be decompression bomb DOS attack.\n",
      "  DecompressionBombWarning)\n"
     ]
    },
    {
     "name": "stdout",
     "output_type": "stream",
     "text": [
      "image shape (12192, 13754, 3)\n"
     ]
    },
    {
     "name": "stderr",
     "output_type": "stream",
     "text": [
      "C:\\Users\\w24875.AD-HZM\\AppData\\Local\\Continuum\\anaconda3\\lib\\site-packages\\PIL\\Image.py:2438: DecompressionBombWarning: Image size (167664384 pixels) exceeds limit of 89478485 pixels, could be decompression bomb DOS attack.\n",
      "  DecompressionBombWarning)\n"
     ]
    },
    {
     "name": "stdout",
     "output_type": "stream",
     "text": [
      "image shape (12192, 13752, 3)\n"
     ]
    }
   ],
   "source": [
    "for i in range(0, len(images)):\n",
    "    json_file = open(labels[i], \"r\")\n",
    "    d = json.load(json_file)\n",
    "    json_file.close()\n",
    "    df = json_normalize(d, 'labels').assign(**d['attributes'])\n",
    "    data_list = []\n",
    "    row=0\n",
    "    for row in range(df.shape[0]):\n",
    "        data = df['box2d'][row]\n",
    "        data_list.append(data)\n",
    "\n",
    "    new_df= pd.DataFrame(data_list)\n",
    "    # new_df\n",
    "    df=pd.concat([df, new_df],1)\n",
    "    df['filename']=labels[i].split('\\\\')[-1].split('.')[0]+'.jpg'\n",
    "    image=misc.imread(images[i])\n",
    "    h,w,d= image.shape\n",
    "    df['width']=w\n",
    "    df['height']=h\n",
    "    df=df.drop(['box2d','place'],axis=1)\n",
    "    df= df[['filename','width','height','category','x1','y1','x2','y2']]\n",
    "    file_idx= images[i].strip('.jpg').split('\\\\')[-1]\n",
    "    width=600\n",
    "    height=600\n",
    "    # boxes_all= np.array(df.values.tolist())\n",
    "    \n",
    "    img_label_df=clip_image(file_idx, image, df, width, height)\n",
    "    final_df=final_df.append(img_label_df,ignore_index=True)\n"
   ]
  },
  {
   "cell_type": "code",
   "execution_count": 9,
   "metadata": {
    "scrolled": true
   },
   "outputs": [
    {
     "data": {
      "text/html": [
       "<div>\n",
       "<style>\n",
       "    .dataframe thead tr:only-child th {\n",
       "        text-align: right;\n",
       "    }\n",
       "\n",
       "    .dataframe thead th {\n",
       "        text-align: left;\n",
       "    }\n",
       "\n",
       "    .dataframe tbody tr th {\n",
       "        vertical-align: top;\n",
       "    }\n",
       "</style>\n",
       "<table border=\"1\" class=\"dataframe\">\n",
       "  <thead>\n",
       "    <tr style=\"text-align: right;\">\n",
       "      <th></th>\n",
       "      <th>filename</th>\n",
       "      <th>width</th>\n",
       "      <th>height</th>\n",
       "      <th>category</th>\n",
       "      <th>x1</th>\n",
       "      <th>y1</th>\n",
       "      <th>x2</th>\n",
       "      <th>y2</th>\n",
       "    </tr>\n",
       "  </thead>\n",
       "  <tbody>\n",
       "    <tr>\n",
       "      <th>0</th>\n",
       "      <td>train_00_03000_07800.jpg</td>\n",
       "      <td>600</td>\n",
       "      <td>600</td>\n",
       "      <td>ship_not_moving</td>\n",
       "      <td>45</td>\n",
       "      <td>585</td>\n",
       "      <td>56</td>\n",
       "      <td>609</td>\n",
       "    </tr>\n",
       "    <tr>\n",
       "      <th>1</th>\n",
       "      <td>train_00_03000_07800.jpg</td>\n",
       "      <td>600</td>\n",
       "      <td>600</td>\n",
       "      <td>ship_not_moving</td>\n",
       "      <td>38</td>\n",
       "      <td>581</td>\n",
       "      <td>44</td>\n",
       "      <td>609</td>\n",
       "    </tr>\n",
       "    <tr>\n",
       "      <th>2</th>\n",
       "      <td>train_00_03000_07800.jpg</td>\n",
       "      <td>600</td>\n",
       "      <td>600</td>\n",
       "      <td>ship_not_moving</td>\n",
       "      <td>31</td>\n",
       "      <td>580</td>\n",
       "      <td>36</td>\n",
       "      <td>607</td>\n",
       "    </tr>\n",
       "    <tr>\n",
       "      <th>3</th>\n",
       "      <td>train_00_03600_07200.jpg</td>\n",
       "      <td>600</td>\n",
       "      <td>600</td>\n",
       "      <td>ship_not_moving</td>\n",
       "      <td>591</td>\n",
       "      <td>-5</td>\n",
       "      <td>605</td>\n",
       "      <td>33</td>\n",
       "    </tr>\n",
       "    <tr>\n",
       "      <th>4</th>\n",
       "      <td>train_00_03600_07200.jpg</td>\n",
       "      <td>600</td>\n",
       "      <td>600</td>\n",
       "      <td>ship_not_moving</td>\n",
       "      <td>591</td>\n",
       "      <td>94</td>\n",
       "      <td>602</td>\n",
       "      <td>131</td>\n",
       "    </tr>\n",
       "  </tbody>\n",
       "</table>\n",
       "</div>"
      ],
      "text/plain": [
       "                   filename width height         category   x1   y1   x2   y2\n",
       "0  train_00_03000_07800.jpg   600    600  ship_not_moving   45  585   56  609\n",
       "1  train_00_03000_07800.jpg   600    600  ship_not_moving   38  581   44  609\n",
       "2  train_00_03000_07800.jpg   600    600  ship_not_moving   31  580   36  607\n",
       "3  train_00_03600_07200.jpg   600    600  ship_not_moving  591   -5  605   33\n",
       "4  train_00_03600_07200.jpg   600    600  ship_not_moving  591   94  602  131"
      ]
     },
     "execution_count": 9,
     "metadata": {},
     "output_type": "execute_result"
    }
   ],
   "source": [
    "final_df.head()\n",
    "# print(\"finished\")"
   ]
  },
  {
   "cell_type": "code",
   "execution_count": 10,
   "metadata": {
    "collapsed": true
   },
   "outputs": [],
   "source": [
    "final_df = final_df.rename(columns={'category': 'class', 'x1': 'xmin', 'y1': 'ymin', 'x2': 'xmax', 'y2': 'ymax'})\n",
    "trial = deepcopy(final_df)"
   ]
  },
  {
   "cell_type": "markdown",
   "metadata": {},
   "source": [
    "## If trying your own large dataset- \n",
    "### Save the final_df as train_labels.csv here, Need not to follow below steps."
   ]
  },
  {
   "cell_type": "markdown",
   "metadata": {},
   "source": [
    "## This model's objective is to detect \"ship\" and \"barge\" only. So convert \"ship_not_moving\" and \"ship_moving\" category to \"ship\""
   ]
  },
  {
   "cell_type": "code",
   "execution_count": 11,
   "metadata": {
    "scrolled": true
   },
   "outputs": [
    {
     "data": {
      "text/html": [
       "<div>\n",
       "<style>\n",
       "    .dataframe thead tr:only-child th {\n",
       "        text-align: right;\n",
       "    }\n",
       "\n",
       "    .dataframe thead th {\n",
       "        text-align: left;\n",
       "    }\n",
       "\n",
       "    .dataframe tbody tr th {\n",
       "        vertical-align: top;\n",
       "    }\n",
       "</style>\n",
       "<table border=\"1\" class=\"dataframe\">\n",
       "  <thead>\n",
       "    <tr style=\"text-align: right;\">\n",
       "      <th></th>\n",
       "      <th>filename</th>\n",
       "      <th>width</th>\n",
       "      <th>height</th>\n",
       "      <th>class</th>\n",
       "      <th>xmin</th>\n",
       "      <th>ymin</th>\n",
       "      <th>xmax</th>\n",
       "      <th>ymax</th>\n",
       "    </tr>\n",
       "  </thead>\n",
       "  <tbody>\n",
       "    <tr>\n",
       "      <th>0</th>\n",
       "      <td>train_00_03000_07800.jpg</td>\n",
       "      <td>600</td>\n",
       "      <td>600</td>\n",
       "      <td>ship</td>\n",
       "      <td>45</td>\n",
       "      <td>585</td>\n",
       "      <td>56</td>\n",
       "      <td>609</td>\n",
       "    </tr>\n",
       "    <tr>\n",
       "      <th>1</th>\n",
       "      <td>train_00_03000_07800.jpg</td>\n",
       "      <td>600</td>\n",
       "      <td>600</td>\n",
       "      <td>ship</td>\n",
       "      <td>38</td>\n",
       "      <td>581</td>\n",
       "      <td>44</td>\n",
       "      <td>609</td>\n",
       "    </tr>\n",
       "    <tr>\n",
       "      <th>2</th>\n",
       "      <td>train_00_03000_07800.jpg</td>\n",
       "      <td>600</td>\n",
       "      <td>600</td>\n",
       "      <td>ship</td>\n",
       "      <td>31</td>\n",
       "      <td>580</td>\n",
       "      <td>36</td>\n",
       "      <td>607</td>\n",
       "    </tr>\n",
       "    <tr>\n",
       "      <th>3</th>\n",
       "      <td>train_00_03600_07200.jpg</td>\n",
       "      <td>600</td>\n",
       "      <td>600</td>\n",
       "      <td>ship</td>\n",
       "      <td>591</td>\n",
       "      <td>-5</td>\n",
       "      <td>605</td>\n",
       "      <td>33</td>\n",
       "    </tr>\n",
       "    <tr>\n",
       "      <th>4</th>\n",
       "      <td>train_00_03600_07200.jpg</td>\n",
       "      <td>600</td>\n",
       "      <td>600</td>\n",
       "      <td>ship</td>\n",
       "      <td>591</td>\n",
       "      <td>94</td>\n",
       "      <td>602</td>\n",
       "      <td>131</td>\n",
       "    </tr>\n",
       "  </tbody>\n",
       "</table>\n",
       "</div>"
      ],
      "text/plain": [
       "                   filename width height class xmin ymin xmax ymax\n",
       "0  train_00_03000_07800.jpg   600    600  ship   45  585   56  609\n",
       "1  train_00_03000_07800.jpg   600    600  ship   38  581   44  609\n",
       "2  train_00_03000_07800.jpg   600    600  ship   31  580   36  607\n",
       "3  train_00_03600_07200.jpg   600    600  ship  591   -5  605   33\n",
       "4  train_00_03600_07200.jpg   600    600  ship  591   94  602  131"
      ]
     },
     "execution_count": 11,
     "metadata": {},
     "output_type": "execute_result"
    }
   ],
   "source": [
    "# the model's target is to detect \"ship\" and \"barge\" only. So convert \"ship_not_moving\" and \"ship_moving\" category to \"ship\"\n",
    "for idx, row in trial.iterrows():\n",
    "    if trial.loc[idx, 'class']== 'ship_not_moving' or trial.loc[idx, 'class']== 'ship_moving':\n",
    "        trial.loc[idx, 'class']= 'ship'\n",
    "        \n",
    "trial.head()"
   ]
  },
  {
   "cell_type": "code",
   "execution_count": 12,
   "metadata": {},
   "outputs": [
    {
     "data": {
      "text/html": [
       "<div>\n",
       "<style>\n",
       "    .dataframe thead tr:only-child th {\n",
       "        text-align: right;\n",
       "    }\n",
       "\n",
       "    .dataframe thead th {\n",
       "        text-align: left;\n",
       "    }\n",
       "\n",
       "    .dataframe tbody tr th {\n",
       "        vertical-align: top;\n",
       "    }\n",
       "</style>\n",
       "<table border=\"1\" class=\"dataframe\">\n",
       "  <thead>\n",
       "    <tr style=\"text-align: right;\">\n",
       "      <th></th>\n",
       "      <th>filename</th>\n",
       "      <th>width</th>\n",
       "      <th>height</th>\n",
       "      <th>class</th>\n",
       "      <th>xmin</th>\n",
       "      <th>ymin</th>\n",
       "      <th>xmax</th>\n",
       "      <th>ymax</th>\n",
       "    </tr>\n",
       "  </thead>\n",
       "  <tbody>\n",
       "    <tr>\n",
       "      <th>0</th>\n",
       "      <td>train_00_03000_07800.jpg</td>\n",
       "      <td>600</td>\n",
       "      <td>600</td>\n",
       "      <td>ship</td>\n",
       "      <td>45</td>\n",
       "      <td>585</td>\n",
       "      <td>56</td>\n",
       "      <td>600</td>\n",
       "    </tr>\n",
       "    <tr>\n",
       "      <th>1</th>\n",
       "      <td>train_00_03000_07800.jpg</td>\n",
       "      <td>600</td>\n",
       "      <td>600</td>\n",
       "      <td>ship</td>\n",
       "      <td>38</td>\n",
       "      <td>581</td>\n",
       "      <td>44</td>\n",
       "      <td>600</td>\n",
       "    </tr>\n",
       "    <tr>\n",
       "      <th>2</th>\n",
       "      <td>train_00_03000_07800.jpg</td>\n",
       "      <td>600</td>\n",
       "      <td>600</td>\n",
       "      <td>ship</td>\n",
       "      <td>31</td>\n",
       "      <td>580</td>\n",
       "      <td>36</td>\n",
       "      <td>600</td>\n",
       "    </tr>\n",
       "    <tr>\n",
       "      <th>3</th>\n",
       "      <td>train_00_03600_07200.jpg</td>\n",
       "      <td>600</td>\n",
       "      <td>600</td>\n",
       "      <td>ship</td>\n",
       "      <td>591</td>\n",
       "      <td>0</td>\n",
       "      <td>600</td>\n",
       "      <td>33</td>\n",
       "    </tr>\n",
       "    <tr>\n",
       "      <th>4</th>\n",
       "      <td>train_00_03600_07200.jpg</td>\n",
       "      <td>600</td>\n",
       "      <td>600</td>\n",
       "      <td>ship</td>\n",
       "      <td>591</td>\n",
       "      <td>94</td>\n",
       "      <td>600</td>\n",
       "      <td>131</td>\n",
       "    </tr>\n",
       "  </tbody>\n",
       "</table>\n",
       "</div>"
      ],
      "text/plain": [
       "                   filename width height class xmin ymin xmax ymax\n",
       "0  train_00_03000_07800.jpg   600    600  ship   45  585   56  600\n",
       "1  train_00_03000_07800.jpg   600    600  ship   38  581   44  600\n",
       "2  train_00_03000_07800.jpg   600    600  ship   31  580   36  600\n",
       "3  train_00_03600_07200.jpg   600    600  ship  591    0  600   33\n",
       "4  train_00_03600_07200.jpg   600    600  ship  591   94  600  131"
      ]
     },
     "execution_count": 12,
     "metadata": {},
     "output_type": "execute_result"
    }
   ],
   "source": [
    "trial['xmin'][trial['xmin'] < 0] = 0\n",
    "trial['ymin'][trial['ymin'] < 0] = 0\n",
    "trial['xmax'][trial['xmax'] < 0] = 0\n",
    "trial['ymax'][trial['ymax'] < 0] = 0\n",
    "trial['xmin'][trial['xmin'] > 600] = 600\n",
    "trial['ymin'][trial['ymin'] > 600] = 600\n",
    "trial['xmax'][trial['xmax'] > 600] = 600\n",
    "trial['ymax'][trial['ymax'] > 600] = 600\n",
    "trial.head()"
   ]
  },
  {
   "cell_type": "code",
   "execution_count": 13,
   "metadata": {},
   "outputs": [],
   "source": [
    "train_labels = trial.loc[~trial['filename'].str.contains('train_02_', case=True, flags=0, regex=True)]\n",
    "test_labels = trial.loc[trial['filename'].str.contains('train_02_', case=True, flags=0, regex=True)]\n",
    "\n",
    "train_labels.to_csv('training_data/train_labels.csv', index= False)\n",
    "test_labels.to_csv('training_data/valid_labels.csv', index= False)"
   ]
  },
  {
   "cell_type": "code",
   "execution_count": 14,
   "metadata": {},
   "outputs": [],
   "source": [
    "split_img_dir= sorted(glob.glob('training_data/train_images/*.jpg'))\n",
    "for i in range(0, len(split_img_dir)):\n",
    "    moving_file = 'train_02_' in split_img_dir[i]\n",
    "    if moving_file:\n",
    "        src = split_img_dir[i]\n",
    "        dst = \"training_data/valid_images/\" + split_img_dir[i].split('\\\\')[-1]\n",
    "        shutil.move(src, dst)"
   ]
  },
  {
   "cell_type": "code",
   "execution_count": 15,
   "metadata": {
    "collapsed": true
   },
   "outputs": [],
   "source": [
    "## Now the training data and validation data has been created. Create tfrecord to proceed"
   ]
  },
  {
   "cell_type": "code",
   "execution_count": null,
   "metadata": {
    "collapsed": true
   },
   "outputs": [],
   "source": []
  }
 ],
 "metadata": {
  "kernelspec": {
   "display_name": "Python 3",
   "language": "python",
   "name": "python3"
  },
  "language_info": {
   "codemirror_mode": {
    "name": "ipython",
    "version": 3
   },
   "file_extension": ".py",
   "mimetype": "text/x-python",
   "name": "python",
   "nbconvert_exporter": "python",
   "pygments_lexer": "ipython3",
   "version": "3.6.2"
  }
 },
 "nbformat": 4,
 "nbformat_minor": 2
}
