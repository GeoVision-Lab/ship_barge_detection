{
 "cells": [
  {
   "cell_type": "code",
   "execution_count": 1,
   "metadata": {
    "collapsed": true
   },
   "outputs": [
    {
     "name": "stdout",
     "output_type": "stream",
     "text": [
      "Populating the interactive namespace from numpy and matplotlib\n"
     ]
    },
    {
     "name": "stderr",
     "output_type": "stream",
     "text": [
      "C:\\Users\\w24875.AD-HZM\\Desktop\\ship_detection\\object_detection\\utils\\visualization_utils.py:27: UserWarning: \n",
      "This call to matplotlib.use() has no effect because the backend has already\n",
      "been chosen; matplotlib.use() must be called *before* pylab, matplotlib.pyplot,\n",
      "or matplotlib.backends is imported for the first time.\n",
      "\n",
      "The backend was *originally* set to 'module://ipykernel.pylab.backend_inline' by the following code:\n",
      "  File \"C:\\Users\\w24875.AD-HZM\\AppData\\Local\\Continuum\\anaconda3\\lib\\runpy.py\", line 193, in _run_module_as_main\n",
      "    \"__main__\", mod_spec)\n",
      "  File \"C:\\Users\\w24875.AD-HZM\\AppData\\Local\\Continuum\\anaconda3\\lib\\runpy.py\", line 85, in _run_code\n",
      "    exec(code, run_globals)\n",
      "  File \"C:\\Users\\w24875.AD-HZM\\AppData\\Local\\Continuum\\anaconda3\\lib\\site-packages\\ipykernel_launcher.py\", line 16, in <module>\n",
      "    app.launch_new_instance()\n",
      "  File \"C:\\Users\\w24875.AD-HZM\\AppData\\Local\\Continuum\\anaconda3\\lib\\site-packages\\traitlets\\config\\application.py\", line 658, in launch_instance\n",
      "    app.start()\n",
      "  File \"C:\\Users\\w24875.AD-HZM\\AppData\\Local\\Continuum\\anaconda3\\lib\\site-packages\\ipykernel\\kernelapp.py\", line 477, in start\n",
      "    ioloop.IOLoop.instance().start()\n",
      "  File \"C:\\Users\\w24875.AD-HZM\\AppData\\Local\\Continuum\\anaconda3\\lib\\site-packages\\zmq\\eventloop\\ioloop.py\", line 177, in start\n",
      "    super(ZMQIOLoop, self).start()\n",
      "  File \"C:\\Users\\w24875.AD-HZM\\AppData\\Local\\Continuum\\anaconda3\\lib\\site-packages\\tornado\\ioloop.py\", line 888, in start\n",
      "    handler_func(fd_obj, events)\n",
      "  File \"C:\\Users\\w24875.AD-HZM\\AppData\\Local\\Continuum\\anaconda3\\lib\\site-packages\\tornado\\stack_context.py\", line 277, in null_wrapper\n",
      "    return fn(*args, **kwargs)\n",
      "  File \"C:\\Users\\w24875.AD-HZM\\AppData\\Local\\Continuum\\anaconda3\\lib\\site-packages\\zmq\\eventloop\\zmqstream.py\", line 440, in _handle_events\n",
      "    self._handle_recv()\n",
      "  File \"C:\\Users\\w24875.AD-HZM\\AppData\\Local\\Continuum\\anaconda3\\lib\\site-packages\\zmq\\eventloop\\zmqstream.py\", line 472, in _handle_recv\n",
      "    self._run_callback(callback, msg)\n",
      "  File \"C:\\Users\\w24875.AD-HZM\\AppData\\Local\\Continuum\\anaconda3\\lib\\site-packages\\zmq\\eventloop\\zmqstream.py\", line 414, in _run_callback\n",
      "    callback(*args, **kwargs)\n",
      "  File \"C:\\Users\\w24875.AD-HZM\\AppData\\Local\\Continuum\\anaconda3\\lib\\site-packages\\tornado\\stack_context.py\", line 277, in null_wrapper\n",
      "    return fn(*args, **kwargs)\n",
      "  File \"C:\\Users\\w24875.AD-HZM\\AppData\\Local\\Continuum\\anaconda3\\lib\\site-packages\\ipykernel\\kernelbase.py\", line 283, in dispatcher\n",
      "    return self.dispatch_shell(stream, msg)\n",
      "  File \"C:\\Users\\w24875.AD-HZM\\AppData\\Local\\Continuum\\anaconda3\\lib\\site-packages\\ipykernel\\kernelbase.py\", line 235, in dispatch_shell\n",
      "    handler(stream, idents, msg)\n",
      "  File \"C:\\Users\\w24875.AD-HZM\\AppData\\Local\\Continuum\\anaconda3\\lib\\site-packages\\ipykernel\\kernelbase.py\", line 399, in execute_request\n",
      "    user_expressions, allow_stdin)\n",
      "  File \"C:\\Users\\w24875.AD-HZM\\AppData\\Local\\Continuum\\anaconda3\\lib\\site-packages\\ipykernel\\ipkernel.py\", line 196, in do_execute\n",
      "    res = shell.run_cell(code, store_history=store_history, silent=silent)\n",
      "  File \"C:\\Users\\w24875.AD-HZM\\AppData\\Local\\Continuum\\anaconda3\\lib\\site-packages\\ipykernel\\zmqshell.py\", line 533, in run_cell\n",
      "    return super(ZMQInteractiveShell, self).run_cell(*args, **kwargs)\n",
      "  File \"C:\\Users\\w24875.AD-HZM\\AppData\\Local\\Continuum\\anaconda3\\lib\\site-packages\\IPython\\core\\interactiveshell.py\", line 2698, in run_cell\n",
      "    interactivity=interactivity, compiler=compiler, result=result)\n",
      "  File \"C:\\Users\\w24875.AD-HZM\\AppData\\Local\\Continuum\\anaconda3\\lib\\site-packages\\IPython\\core\\interactiveshell.py\", line 2802, in run_ast_nodes\n",
      "    if self.run_code(code, result):\n",
      "  File \"C:\\Users\\w24875.AD-HZM\\AppData\\Local\\Continuum\\anaconda3\\lib\\site-packages\\IPython\\core\\interactiveshell.py\", line 2862, in run_code\n",
      "    exec(code_obj, self.user_global_ns, self.user_ns)\n",
      "  File \"<ipython-input-1-5b3e38e8eaf7>\", line 7, in <module>\n",
      "    get_ipython().magic('pylab inline')\n",
      "  File \"C:\\Users\\w24875.AD-HZM\\AppData\\Local\\Continuum\\anaconda3\\lib\\site-packages\\IPython\\core\\interactiveshell.py\", line 2146, in magic\n",
      "    return self.run_line_magic(magic_name, magic_arg_s)\n",
      "  File \"C:\\Users\\w24875.AD-HZM\\AppData\\Local\\Continuum\\anaconda3\\lib\\site-packages\\IPython\\core\\interactiveshell.py\", line 2067, in run_line_magic\n",
      "    result = fn(*args,**kwargs)\n",
      "  File \"<decorator-gen-109>\", line 2, in pylab\n",
      "  File \"C:\\Users\\w24875.AD-HZM\\AppData\\Local\\Continuum\\anaconda3\\lib\\site-packages\\IPython\\core\\magic.py\", line 187, in <lambda>\n",
      "    call = lambda f, *a, **k: f(*a, **k)\n",
      "  File \"C:\\Users\\w24875.AD-HZM\\AppData\\Local\\Continuum\\anaconda3\\lib\\site-packages\\IPython\\core\\magics\\pylab.py\", line 155, in pylab\n",
      "    gui, backend, clobbered = self.shell.enable_pylab(args.gui, import_all=import_all)\n",
      "  File \"C:\\Users\\w24875.AD-HZM\\AppData\\Local\\Continuum\\anaconda3\\lib\\site-packages\\IPython\\core\\interactiveshell.py\", line 2969, in enable_pylab\n",
      "    gui, backend = self.enable_matplotlib(gui)\n",
      "  File \"C:\\Users\\w24875.AD-HZM\\AppData\\Local\\Continuum\\anaconda3\\lib\\site-packages\\IPython\\core\\interactiveshell.py\", line 2930, in enable_matplotlib\n",
      "    pt.activate_matplotlib(backend)\n",
      "  File \"C:\\Users\\w24875.AD-HZM\\AppData\\Local\\Continuum\\anaconda3\\lib\\site-packages\\IPython\\core\\pylabtools.py\", line 307, in activate_matplotlib\n",
      "    matplotlib.pyplot.switch_backend(backend)\n",
      "  File \"C:\\Users\\w24875.AD-HZM\\AppData\\Local\\Continuum\\anaconda3\\lib\\site-packages\\matplotlib\\pyplot.py\", line 231, in switch_backend\n",
      "    matplotlib.use(newbackend, warn=False, force=True)\n",
      "  File \"C:\\Users\\w24875.AD-HZM\\AppData\\Local\\Continuum\\anaconda3\\lib\\site-packages\\matplotlib\\__init__.py\", line 1410, in use\n",
      "    reload(sys.modules['matplotlib.backends'])\n",
      "  File \"C:\\Users\\w24875.AD-HZM\\AppData\\Local\\Continuum\\anaconda3\\lib\\importlib\\__init__.py\", line 166, in reload\n",
      "    _bootstrap._exec(spec, module)\n",
      "  File \"C:\\Users\\w24875.AD-HZM\\AppData\\Local\\Continuum\\anaconda3\\lib\\site-packages\\matplotlib\\backends\\__init__.py\", line 16, in <module>\n",
      "    line for line in traceback.format_stack()\n",
      "\n",
      "\n",
      "  import matplotlib; matplotlib.use('Agg')  # pylint: disable=multiple-statements\n"
     ]
    }
   ],
   "source": [
    "import os\n",
    "import matplotlib.pyplot as plt\n",
    "import glob\n",
    "import cv2 as cv\n",
    "import tensorflow as tf\n",
    "import sys\n",
    "%pylab inline\n",
    "import numpy as np\n",
    "import pandas as pd\n",
    "sys.path.append(\"..\")\n",
    "from object_detection.core import box_list\n",
    "from object_detection.core import box_list_ops\n",
    "from object_detection.core import standard_fields as fields\n",
    "from object_detection.utils import shape_utils\n",
    "\n",
    "from utils import label_map_util\n",
    "from utils import visualization_utils as vis_util"
   ]
  },
  {
   "cell_type": "code",
   "execution_count": 2,
   "metadata": {},
   "outputs": [
    {
     "data": {
      "text/plain": [
       "11735"
      ]
     },
     "execution_count": 2,
     "metadata": {},
     "output_type": "execute_result"
    }
   ],
   "source": [
    "test_imgs= glob.glob('test_images/*.jpg')\n",
    "\n",
    "# MODEL_NAME= 'inference_graph/simrdwn_frcnn'\n",
    "MODEL_NAME= 'inference_graph/'\n",
    "len(test_imgs)"
   ]
  },
  {
   "cell_type": "code",
   "execution_count": 4,
   "metadata": {
    "collapsed": true
   },
   "outputs": [],
   "source": [
    "CWD_PATH = os.getcwd()\n",
    "\n",
    "#Path to frozen detection graph .pb file\n",
    "PATH_TO_CKPT= os.path.join(CWD_PATH, MODEL_NAME, 'frozen_inference_graph.pb')\n",
    "\n",
    "#Path to label map file\n",
    "PATH_TO_LABELS = os.path.join(CWD_PATH, 'training', 'labelmap.pbtxt')\n",
    "\n",
    "# Number of classes the object detector can identify\n",
    "NUM_CLASSES = 3\n",
    "\n",
    "# Load the label map. \n",
    "# Label maps map indices to category names, i.e. if network predicts '1', it corresponds to 'ship'\n",
    "label_map = label_map_util.load_labelmap(PATH_TO_LABELS)\n",
    "categories = label_map_util.convert_label_map_to_categories(label_map, max_num_classes=NUM_CLASSES, use_display_name=True)\n",
    "category_index = label_map_util.create_category_index(categories)\n",
    "\n"
   ]
  },
  {
   "cell_type": "code",
   "execution_count": 16,
   "metadata": {
    "collapsed": true
   },
   "outputs": [],
   "source": [
    "for j in range(0, 20): # len(test_imgs)):\n",
    "    IMAGE_NAME= test_imgs[j]\n",
    "    # Load the tensorflow model into memory\n",
    "\n",
    "    detection_graph = tf.Graph()\n",
    "    with detection_graph.as_default():\n",
    "        od_graph_def = tf.GraphDef()\n",
    "        with tf.gfile.GFile(PATH_TO_CKPT, 'rb') as fid:\n",
    "            serialized_graph = fid.read()\n",
    "            od_graph_def.ParseFromString(serialized_graph)\n",
    "            tf.import_graph_def(od_graph_def, name='')\n",
    "\n",
    "        sess = tf.Session(graph=detection_graph)\n",
    "\n",
    "    # Define input and output tensors (i.e. data) for the object detection classifier\n",
    "\n",
    "    # Input tensor is the image\n",
    "    image_tensor = detection_graph.get_tensor_by_name('image_tensor:0')\n",
    "\n",
    "    # Output tensors are the detection boxes, scores, and classes\n",
    "    # Each box represents a part of the image where a particular object was detected\n",
    "    detection_boxes = detection_graph.get_tensor_by_name('detection_boxes:0')\n",
    "\n",
    "    # Each score represents level of confidence for each of the objects.\n",
    "    # The score is shown on the result image, together with the class label.\n",
    "    detection_scores = detection_graph.get_tensor_by_name('detection_scores:0')\n",
    "    detection_classes = detection_graph.get_tensor_by_name('detection_classes:0')\n",
    "\n",
    "    # Number of objects detected\n",
    "    num_detections = detection_graph.get_tensor_by_name('num_detections:0')\n",
    "\n",
    "\n",
    "    # Load image using OpenCV and\n",
    "    # expand image dimensions to have shape: [1, None, None, 3]\n",
    "    # i.e. a single-column array, where each item in the column has the pixel RGB value\n",
    "    image = cv.imread(IMAGE_NAME)\n",
    "    image_expanded = np.expand_dims(image, axis=0)\n",
    "\n",
    "    # Perform the actual detection by running the model with the image as input\n",
    "    (boxes, scores, classes, num) = sess.run(\n",
    "        [detection_boxes, detection_scores, detection_classes, num_detections],\n",
    "        feed_dict={image_tensor: image_expanded})\n",
    "\n",
    "    indexes= tf.image.non_max_suppression(\n",
    "                np.squeeze(boxes),\n",
    "                np.squeeze(scores),\n",
    "                max_output_size=100,\n",
    "                iou_threshold=0.00008,\n",
    "                score_threshold=float(0.1))\n",
    "\n",
    "    sess = tf.Session()\n",
    "    with sess.as_default():\n",
    "        detection_points= indexes.eval()\n",
    "\n",
    "    bounding_boxes = []\n",
    "    detected_classes = []\n",
    "    detected_score = []\n",
    "    for item in detection_points:\n",
    "        bounding_boxes.append(np.squeeze(boxes)[item])\n",
    "        detected_classes.append(np.squeeze(classes)[item])\n",
    "        detected_score.append(np.squeeze(scores)[item])\n",
    "\n",
    "    bounding_boxes=np.array(bounding_boxes)\n",
    "    detected_classes = np.array(detected_classes)\n",
    "    detected_score = np.array(detected_score)\n",
    "\n",
    "    vis_util.visualize_boxes_and_labels_on_image_array(\n",
    "        image,\n",
    "        bounding_boxes,\n",
    "        detected_classes.astype(np.int32),\n",
    "        scores = None,\n",
    "        category_index = category_index,\n",
    "        use_normalized_coordinates=True,\n",
    "        line_thickness=2,\n",
    "        min_score_thresh=0.40)\n",
    "\n",
    "    \n",
    "    image.shape\n",
    "\n",
    "    height, width, nband= image.shape\n",
    "    count = 0\n",
    "    columns = ['filename','width','height','category','x1','y1','x2','y2']\n",
    "    test_df = pd.DataFrame(columns= columns)\n",
    "\n",
    "    for i, box in enumerate(bounding_boxes):\n",
    "          if(detected_score[i] > 0.4):\n",
    "#                 print(detected_classes[i])\n",
    "#                 print(\"ymin={}, xmin={}, ymax={}, xmax = {}\".format(int(box[0]*height),box[1]*width,box[2]*height,box[3]*width))\n",
    "                f_name = IMAGE_NAME.split('/')[-1]\n",
    "                test_df = test_df.append({'filename': f_name, 'x1': box[1]*width, 'y1': box[0]*height, 'x2': box[3]*width, 'y2': box[2]*height, 'category': detected_classes[i], 'width': width, 'height': height }, ignore_index=True)\n",
    "                count = count+1\n",
    "#     print(count)\n",
    "    if test_df.empty == False:\n",
    "        img_save_path = 'result/testing_output/' + IMAGE_NAME.split('\\\\')[-1].split('.')[0] + '.jpg'\n",
    "        cv.imwrite(img_save_path, image)\n",
    "        plt.imshow(image)\n",
    "        plt.show()\n",
    "        conditions = [test_df['category'] == 1, test_df['category'] == 2, test_df['category'] == 3]\n",
    "        choices = ['ship', 'barge', 'unknown']\n",
    "        test_df['category'] = np.select(conditions, choices)\n",
    "        test_path_name = 'result/test_labels/' + IMAGE_NAME.split('\\\\')[-1].split('.')[0] + '.csv'\n",
    "        test_df.to_csv(test_path_name, index = False)\n",
    "        print(test_df)\n",
    "\n",
    "#     label_name = '../../600/train_labels/' + IMAGE_NAME.split('/')[-1].split('.')[0] + '.csv'\n",
    "#     real_label = pd.read_csv(label_name)\n",
    "#     print(real_label)"
   ]
  },
  {
   "cell_type": "code",
   "execution_count": 14,
   "metadata": {},
   "outputs": [
    {
     "name": "stdout",
     "output_type": "stream",
     "text": [
      "blow\n"
     ]
    }
   ],
   "source": [
    "if test_df.empty == False:\n",
    "    print('yes')\n",
    "else:\n",
    "    print('blow')"
   ]
  },
  {
   "cell_type": "code",
   "execution_count": 15,
   "metadata": {},
   "outputs": [
    {
     "data": {
      "text/plain": [
       "0"
      ]
     },
     "execution_count": 15,
     "metadata": {},
     "output_type": "execute_result"
    }
   ],
   "source": [
    "len(test_df)"
   ]
  },
  {
   "cell_type": "code",
   "execution_count": null,
   "metadata": {
    "collapsed": true
   },
   "outputs": [],
   "source": []
  }
 ],
 "metadata": {
  "kernelspec": {
   "display_name": "Python 3",
   "language": "python",
   "name": "python3"
  },
  "language_info": {
   "codemirror_mode": {
    "name": "ipython",
    "version": 3
   },
   "file_extension": ".py",
   "mimetype": "text/x-python",
   "name": "python",
   "nbconvert_exporter": "python",
   "pygments_lexer": "ipython3",
   "version": "3.6.2"
  }
 },
 "nbformat": 4,
 "nbformat_minor": 2
}
