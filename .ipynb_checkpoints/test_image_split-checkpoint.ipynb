{
 "cells": [
  {
   "cell_type": "code",
   "execution_count": 1,
   "metadata": {},
   "outputs": [
    {
     "name": "stdout",
     "output_type": "stream",
     "text": [
      "Populating the interactive namespace from numpy and matplotlib\n"
     ]
    }
   ],
   "source": [
    "import os\n",
    "import scipy.misc as misc\n",
    "import numpy as np\n",
    "from copy import deepcopy\n",
    "import cv2 as cv\n",
    "import glob\n",
    "import json\n",
    "import pandas as pd\n",
    "import shutil\n",
    "from pandas.io.json import json_normalize\n",
    "import matplotlib.pyplot as plt\n",
    "%pylab inline"
   ]
  },
  {
   "cell_type": "code",
   "execution_count": 2,
   "metadata": {
    "collapsed": true
   },
   "outputs": [],
   "source": [
    "images = glob.glob('test_images/*.jpg')"
   ]
  },
  {
   "cell_type": "code",
   "execution_count": 4,
   "metadata": {},
   "outputs": [
    {
     "name": "stdout",
     "output_type": "stream",
     "text": [
      "find image 21\n"
     ]
    }
   ],
   "source": [
    "save_dir= os.path.join('split_data/600/')\n",
    "print ('find image', len(images))"
   ]
  },
  {
   "cell_type": "code",
   "execution_count": 5,
   "metadata": {
    "collapsed": true
   },
   "outputs": [],
   "source": [
    "# from copy import deepcopy\n",
    "def clip_image(file_idx, image, width, height):\n",
    "    print('image shape', image.shape)\n",
    "    shape = image.shape\n",
    "    for start_h in range(0, shape[0], height):\n",
    "        for start_w in range(0, shape[1], width):\n",
    "            top_left_row = max(start_h, 0)\n",
    "            top_left_col = max(start_w, 0)\n",
    "            bottom_right_row = min(start_h + height, shape[0])\n",
    "            bottom_right_col = min(start_w + width, shape[1])\n",
    "            subImage = image[top_left_row:bottom_right_row, top_left_col: bottom_right_col]  \n",
    "            if subImage.shape[0] > 5 and subImage.shape[1] >5:\n",
    "                img = os.path.join(save_dir, 'fin_test_images', \"%s_%05d_%05d.jpg\" % (file_idx, top_left_row, top_left_col))\n",
    "                cv.imwrite(img, subImage)\n",
    "#                         print(img)\n",
    "                del(subImage)\n",
    "                \n",
    "                \n",
    "                        \n",
    "                        \n"
   ]
  },
  {
   "cell_type": "code",
   "execution_count": 8,
   "metadata": {},
   "outputs": [
    {
     "name": "stderr",
     "output_type": "stream",
     "text": [
      "C:\\Users\\w24875.AD-HZM\\AppData\\Local\\Continuum\\anaconda3\\lib\\site-packages\\PIL\\Image.py:2438: DecompressionBombWarning: Image size (167716276 pixels) exceeds limit of 89478485 pixels, could be decompression bomb DOS attack.\n",
      "  DecompressionBombWarning)\n"
     ]
    },
    {
     "name": "stdout",
     "output_type": "stream",
     "text": [
      "image shape (12194, 13754, 3)\n"
     ]
    },
    {
     "name": "stderr",
     "output_type": "stream",
     "text": [
      "C:\\Users\\w24875.AD-HZM\\AppData\\Local\\Continuum\\anaconda3\\lib\\site-packages\\PIL\\Image.py:2438: DecompressionBombWarning: Image size (166527648 pixels) exceeds limit of 89478485 pixels, could be decompression bomb DOS attack.\n",
      "  DecompressionBombWarning)\n"
     ]
    },
    {
     "name": "stdout",
     "output_type": "stream",
     "text": [
      "image shape (12656, 13158, 3)\n"
     ]
    },
    {
     "name": "stderr",
     "output_type": "stream",
     "text": [
      "C:\\Users\\w24875.AD-HZM\\AppData\\Local\\Continuum\\anaconda3\\lib\\site-packages\\PIL\\Image.py:2438: DecompressionBombWarning: Image size (167747552 pixels) exceeds limit of 89478485 pixels, could be decompression bomb DOS attack.\n",
      "  DecompressionBombWarning)\n"
     ]
    },
    {
     "name": "stdout",
     "output_type": "stream",
     "text": [
      "image shape (12712, 13196, 3)\n"
     ]
    },
    {
     "name": "stderr",
     "output_type": "stream",
     "text": [
      "C:\\Users\\w24875.AD-HZM\\AppData\\Local\\Continuum\\anaconda3\\lib\\site-packages\\PIL\\Image.py:2438: DecompressionBombWarning: Image size (160642112 pixels) exceeds limit of 89478485 pixels, could be decompression bomb DOS attack.\n",
      "  DecompressionBombWarning)\n"
     ]
    },
    {
     "name": "stdout",
     "output_type": "stream",
     "text": [
      "image shape (12274, 13088, 3)\n"
     ]
    },
    {
     "name": "stderr",
     "output_type": "stream",
     "text": [
      "C:\\Users\\w24875.AD-HZM\\AppData\\Local\\Continuum\\anaconda3\\lib\\site-packages\\PIL\\Image.py:2438: DecompressionBombWarning: Image size (182981652 pixels) exceeds limit of 89478485 pixels, could be decompression bomb DOS attack.\n",
      "  DecompressionBombWarning)\n"
     ]
    },
    {
     "name": "stdout",
     "output_type": "stream",
     "text": [
      "image shape (10722, 17066, 3)\n"
     ]
    },
    {
     "name": "stderr",
     "output_type": "stream",
     "text": [
      "C:\\Users\\w24875.AD-HZM\\AppData\\Local\\Continuum\\anaconda3\\lib\\site-packages\\PIL\\Image.py:2438: DecompressionBombWarning: Image size (179235708 pixels) exceeds limit of 89478485 pixels, could be decompression bomb DOS attack.\n",
      "  DecompressionBombWarning)\n"
     ]
    },
    {
     "name": "stdout",
     "output_type": "stream",
     "text": [
      "image shape (12674, 14142, 3)\n"
     ]
    },
    {
     "name": "stderr",
     "output_type": "stream",
     "text": [
      "C:\\Users\\w24875.AD-HZM\\AppData\\Local\\Continuum\\anaconda3\\lib\\site-packages\\PIL\\Image.py:2438: DecompressionBombWarning: Image size (179210360 pixels) exceeds limit of 89478485 pixels, could be decompression bomb DOS attack.\n",
      "  DecompressionBombWarning)\n"
     ]
    },
    {
     "name": "stdout",
     "output_type": "stream",
     "text": [
      "image shape (12674, 14140, 3)\n"
     ]
    },
    {
     "name": "stderr",
     "output_type": "stream",
     "text": [
      "C:\\Users\\w24875.AD-HZM\\AppData\\Local\\Continuum\\anaconda3\\lib\\site-packages\\PIL\\Image.py:2438: DecompressionBombWarning: Image size (179207424 pixels) exceeds limit of 89478485 pixels, could be decompression bomb DOS attack.\n",
      "  DecompressionBombWarning)\n"
     ]
    },
    {
     "name": "stdout",
     "output_type": "stream",
     "text": [
      "image shape (12672, 14142, 3)\n"
     ]
    },
    {
     "name": "stderr",
     "output_type": "stream",
     "text": [
      "C:\\Users\\w24875.AD-HZM\\AppData\\Local\\Continuum\\anaconda3\\lib\\site-packages\\PIL\\Image.py:2438: DecompressionBombWarning: Image size (179182080 pixels) exceeds limit of 89478485 pixels, could be decompression bomb DOS attack.\n",
      "  DecompressionBombWarning)\n"
     ]
    },
    {
     "name": "stdout",
     "output_type": "stream",
     "text": [
      "image shape (12672, 14140, 3)\n"
     ]
    },
    {
     "name": "stderr",
     "output_type": "stream",
     "text": [
      "C:\\Users\\w24875.AD-HZM\\AppData\\Local\\Continuum\\anaconda3\\lib\\site-packages\\PIL\\Image.py:2438: DecompressionBombWarning: Image size (287035000 pixels) exceeds limit of 89478485 pixels, could be decompression bomb DOS attack.\n",
      "  DecompressionBombWarning)\n"
     ]
    },
    {
     "name": "stdout",
     "output_type": "stream",
     "text": [
      "image shape (14750, 19460, 3)\n"
     ]
    },
    {
     "name": "stderr",
     "output_type": "stream",
     "text": [
      "C:\\Users\\w24875.AD-HZM\\AppData\\Local\\Continuum\\anaconda3\\lib\\site-packages\\PIL\\Image.py:2438: DecompressionBombWarning: Image size (287005500 pixels) exceeds limit of 89478485 pixels, could be decompression bomb DOS attack.\n",
      "  DecompressionBombWarning)\n"
     ]
    },
    {
     "name": "stdout",
     "output_type": "stream",
     "text": [
      "image shape (14750, 19458, 3)\n"
     ]
    },
    {
     "name": "stderr",
     "output_type": "stream",
     "text": [
      "C:\\Users\\w24875.AD-HZM\\AppData\\Local\\Continuum\\anaconda3\\lib\\site-packages\\PIL\\Image.py:2438: DecompressionBombWarning: Image size (286996080 pixels) exceeds limit of 89478485 pixels, could be decompression bomb DOS attack.\n",
      "  DecompressionBombWarning)\n"
     ]
    },
    {
     "name": "stdout",
     "output_type": "stream",
     "text": [
      "image shape (14748, 19460, 3)\n"
     ]
    },
    {
     "name": "stderr",
     "output_type": "stream",
     "text": [
      "C:\\Users\\w24875.AD-HZM\\AppData\\Local\\Continuum\\anaconda3\\lib\\site-packages\\PIL\\Image.py:2438: DecompressionBombWarning: Image size (286966584 pixels) exceeds limit of 89478485 pixels, could be decompression bomb DOS attack.\n",
      "  DecompressionBombWarning)\n"
     ]
    },
    {
     "name": "stdout",
     "output_type": "stream",
     "text": [
      "image shape (14748, 19458, 3)\n"
     ]
    },
    {
     "name": "stderr",
     "output_type": "stream",
     "text": [
      "C:\\Users\\w24875.AD-HZM\\AppData\\Local\\Continuum\\anaconda3\\lib\\site-packages\\PIL\\Image.py:2438: DecompressionBombWarning: Image size (173461376 pixels) exceeds limit of 89478485 pixels, could be decompression bomb DOS attack.\n",
      "  DecompressionBombWarning)\n"
     ]
    },
    {
     "name": "stdout",
     "output_type": "stream",
     "text": [
      "image shape (11296, 15356, 3)\n"
     ]
    },
    {
     "name": "stderr",
     "output_type": "stream",
     "text": [
      "C:\\Users\\w24875.AD-HZM\\AppData\\Local\\Continuum\\anaconda3\\lib\\site-packages\\PIL\\Image.py:2438: DecompressionBombWarning: Image size (155676136 pixels) exceeds limit of 89478485 pixels, could be decompression bomb DOS attack.\n",
      "  DecompressionBombWarning)\n"
     ]
    },
    {
     "name": "stdout",
     "output_type": "stream",
     "text": [
      "image shape (12166, 12796, 3)\n"
     ]
    },
    {
     "name": "stderr",
     "output_type": "stream",
     "text": [
      "C:\\Users\\w24875.AD-HZM\\AppData\\Local\\Continuum\\anaconda3\\lib\\site-packages\\PIL\\Image.py:2438: DecompressionBombWarning: Image size (155651804 pixels) exceeds limit of 89478485 pixels, could be decompression bomb DOS attack.\n",
      "  DecompressionBombWarning)\n"
     ]
    },
    {
     "name": "stdout",
     "output_type": "stream",
     "text": [
      "image shape (12166, 12794, 3)\n"
     ]
    },
    {
     "name": "stderr",
     "output_type": "stream",
     "text": [
      "C:\\Users\\w24875.AD-HZM\\AppData\\Local\\Continuum\\anaconda3\\lib\\site-packages\\PIL\\Image.py:2438: DecompressionBombWarning: Image size (155626216 pixels) exceeds limit of 89478485 pixels, could be decompression bomb DOS attack.\n",
      "  DecompressionBombWarning)\n"
     ]
    },
    {
     "name": "stdout",
     "output_type": "stream",
     "text": [
      "image shape (12164, 12794, 3)\n"
     ]
    },
    {
     "name": "stderr",
     "output_type": "stream",
     "text": [
      "C:\\Users\\w24875.AD-HZM\\AppData\\Local\\Continuum\\anaconda3\\lib\\site-packages\\PIL\\Image.py:2438: DecompressionBombWarning: Image size (178157000 pixels) exceeds limit of 89478485 pixels, could be decompression bomb DOS attack.\n",
      "  DecompressionBombWarning)\n"
     ]
    },
    {
     "name": "stdout",
     "output_type": "stream",
     "text": [
      "image shape (11494, 15500, 3)\n"
     ]
    },
    {
     "name": "stderr",
     "output_type": "stream",
     "text": [
      "C:\\Users\\w24875.AD-HZM\\AppData\\Local\\Continuum\\anaconda3\\lib\\site-packages\\PIL\\Image.py:2438: DecompressionBombWarning: Image size (178126000 pixels) exceeds limit of 89478485 pixels, could be decompression bomb DOS attack.\n",
      "  DecompressionBombWarning)\n"
     ]
    },
    {
     "name": "stdout",
     "output_type": "stream",
     "text": [
      "image shape (11492, 15500, 3)\n"
     ]
    },
    {
     "name": "stderr",
     "output_type": "stream",
     "text": [
      "C:\\Users\\w24875.AD-HZM\\AppData\\Local\\Continuum\\anaconda3\\lib\\site-packages\\PIL\\Image.py:2438: DecompressionBombWarning: Image size (162179136 pixels) exceeds limit of 89478485 pixels, could be decompression bomb DOS attack.\n",
      "  DecompressionBombWarning)\n"
     ]
    },
    {
     "name": "stdout",
     "output_type": "stream",
     "text": [
      "image shape (12768, 12702, 3)\n"
     ]
    },
    {
     "name": "stderr",
     "output_type": "stream",
     "text": [
      "C:\\Users\\w24875.AD-HZM\\AppData\\Local\\Continuum\\anaconda3\\lib\\site-packages\\PIL\\Image.py:2438: DecompressionBombWarning: Image size (165939524 pixels) exceeds limit of 89478485 pixels, could be decompression bomb DOS attack.\n",
      "  DecompressionBombWarning)\n"
     ]
    },
    {
     "name": "stdout",
     "output_type": "stream",
     "text": [
      "image shape (12962, 12802, 3)\n"
     ]
    }
   ],
   "source": [
    "for i in range(0, len(images)):\n",
    "    file_idx = images[i].strip('.jpg').split('\\\\')[-1]\n",
    "    width = 600\n",
    "    height = 600\n",
    "    image = misc.imread(images[i])\n",
    "    clip_image(file_idx, image, width, height)"
   ]
  }
 ],
 "metadata": {
  "kernelspec": {
   "display_name": "Python 3",
   "language": "python",
   "name": "python3"
  },
  "language_info": {
   "codemirror_mode": {
    "name": "ipython",
    "version": 3
   },
   "file_extension": ".py",
   "mimetype": "text/x-python",
   "name": "python",
   "nbconvert_exporter": "python",
   "pygments_lexer": "ipython3",
   "version": "3.6.2"
  }
 },
 "nbformat": 4,
 "nbformat_minor": 2
}
