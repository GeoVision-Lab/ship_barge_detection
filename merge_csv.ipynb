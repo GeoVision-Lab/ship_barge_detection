{
 "cells": [
  {
   "cell_type": "code",
   "execution_count": 1,
   "metadata": {
    "collapsed": true
   },
   "outputs": [],
   "source": [
    "import pandas as pd\n",
    "import numpy as np\n",
    "import glob "
   ]
  },
  {
   "cell_type": "code",
   "execution_count": null,
   "metadata": {
    "collapsed": true
   },
   "outputs": [],
   "source": [
    "test_labels = sorted(glob.glob('../object_detection/result/from_sakura/test_labels_OLD/*.csv'))"
   ]
  },
  {
   "cell_type": "code",
   "execution_count": null,
   "metadata": {},
   "outputs": [],
   "source": [
    "pd.read_csv(test_labels[0])"
   ]
  },
  {
   "cell_type": "code",
   "execution_count": 2,
   "metadata": {},
   "outputs": [
    {
     "name": "stdout",
     "output_type": "stream",
     "text": [
      "test_17\n"
     ]
    },
    {
     "data": {
      "text/html": [
       "<div>\n",
       "<style>\n",
       "    .dataframe thead tr:only-child th {\n",
       "        text-align: right;\n",
       "    }\n",
       "\n",
       "    .dataframe thead th {\n",
       "        text-align: left;\n",
       "    }\n",
       "\n",
       "    .dataframe tbody tr th {\n",
       "        vertical-align: top;\n",
       "    }\n",
       "</style>\n",
       "<table border=\"1\" class=\"dataframe\">\n",
       "  <thead>\n",
       "    <tr style=\"text-align: right;\">\n",
       "      <th></th>\n",
       "      <th>filename</th>\n",
       "      <th>width</th>\n",
       "      <th>height</th>\n",
       "      <th>category</th>\n",
       "      <th>x1</th>\n",
       "      <th>y1</th>\n",
       "      <th>x2</th>\n",
       "      <th>y2</th>\n",
       "    </tr>\n",
       "  </thead>\n",
       "  <tbody>\n",
       "  </tbody>\n",
       "</table>\n",
       "</div>"
      ],
      "text/plain": [
       "Empty DataFrame\n",
       "Columns: [filename, width, height, category, x1, y1, x2, y2]\n",
       "Index: []"
      ]
     },
     "execution_count": 2,
     "metadata": {},
     "output_type": "execute_result"
    }
   ],
   "source": [
    "old_img_name = 'test_17'\n",
    "columns = ['filename','width','height','category','x1','y1','x2','y2']\n",
    "test_df = pd.DataFrame(columns= columns)\n",
    "print(old_img_name)\n",
    "test_df"
   ]
  },
  {
   "cell_type": "code",
   "execution_count": null,
   "metadata": {
    "collapsed": true
   },
   "outputs": [],
   "source": []
  },
  {
   "cell_type": "code",
   "execution_count": null,
   "metadata": {
    "scrolled": true
   },
   "outputs": [],
   "source": [
    "for j in range(0,len(test_labels)):\n",
    "    test = pd.read_csv(test_labels[j])\n",
    "    print(test_labels[j])\n",
    "    if len(test)>0:\n",
    "        file_name = test['filename'][0].split('.')[0] + '.csv'\n",
    "        img_name = \"_\".join(file_name.split('_', 2)[:2])\n",
    "        x_add = test['filename'][0].split('.')[0].split('_')[3]\n",
    "        y_add = test['filename'][0].split('.')[0].split('_')[2]\n",
    "        i = 0\n",
    "        for i in range(0, len(test)):\n",
    "            test.iloc[i, 4] = test.iloc[i, 4] + int(x_add)\n",
    "            test.iloc[i, 5] = test.iloc[i, 5] + int(y_add)\n",
    "            test.iloc[i, 6] = test.iloc[i, 6] + int(x_add)\n",
    "            test.iloc[i, 7] = test.iloc[i, 7] + int(y_add)\n",
    "\n",
    "        if img_name == old_img_name:\n",
    "            test_df=test_df.append(test,ignore_index=True)\n",
    "#             print(test_df)\n",
    "            if j == len(test_labels)-1:\n",
    "                test_path_name = '../object_detection/result/final_large_csv/' + old_img_name + '.csv'\n",
    "                test_df.to_csv(test_path_name, index = False)    \n",
    "        else:\n",
    "            test_path_name = '../object_detection/result/final_large_csv/' + old_img_name + '.csv'\n",
    "            test_df.to_csv(test_path_name, index = False)\n",
    "            test_df = pd.DataFrame(columns= columns)\n",
    "            test_df=test_df.append(test,ignore_index=True)\n",
    "        \n",
    "        old_img_name = img_name"
   ]
  },
  {
   "cell_type": "code",
   "execution_count": 3,
   "metadata": {},
   "outputs": [
    {
     "data": {
      "text/plain": [
       "189"
      ]
     },
     "execution_count": 3,
     "metadata": {},
     "output_type": "execute_result"
    }
   ],
   "source": [
    "test_labels = glob.glob('../object_detection/result/from_sakura/blah/*.csv')\n",
    "len(test_labels)"
   ]
  },
  {
   "cell_type": "code",
   "execution_count": 4,
   "metadata": {},
   "outputs": [
    {
     "name": "stdout",
     "output_type": "stream",
     "text": [
      "../object_detection/result/from_sakura/blah\\test_17_00000_06000.csv\n",
      "../object_detection/result/from_sakura/blah\\test_17_00600_04800.csv\n",
      "../object_detection/result/from_sakura/blah\\test_17_00600_06000.csv\n",
      "../object_detection/result/from_sakura/blah\\test_17_00600_08400.csv\n",
      "../object_detection/result/from_sakura/blah\\test_17_01800_09600.csv\n",
      "../object_detection/result/from_sakura/blah\\test_17_01800_10200.csv\n",
      "../object_detection/result/from_sakura/blah\\test_17_02400_09600.csv\n",
      "../object_detection/result/from_sakura/blah\\test_17_02400_10200.csv\n",
      "../object_detection/result/from_sakura/blah\\test_17_03000_12600.csv\n",
      "../object_detection/result/from_sakura/blah\\test_17_03600_04200.csv\n",
      "../object_detection/result/from_sakura/blah\\test_17_04800_09600.csv\n",
      "../object_detection/result/from_sakura/blah\\test_17_06600_13800.csv\n",
      "../object_detection/result/from_sakura/blah\\test_17_06600_14400.csv\n",
      "../object_detection/result/from_sakura/blah\\test_17_07200_12000.csv\n",
      "../object_detection/result/from_sakura/blah\\test_17_07200_12600.csv\n",
      "../object_detection/result/from_sakura/blah\\test_17_09600_13200.csv\n",
      "../object_detection/result/from_sakura/blah\\test_17_10200_10200.csv\n",
      "../object_detection/result/from_sakura/blah\\test_18_00600_05400.csv\n",
      "../object_detection/result/from_sakura/blah\\test_18_00600_06000.csv\n",
      "../object_detection/result/from_sakura/blah\\test_18_00600_07800.csv\n",
      "../object_detection/result/from_sakura/blah\\test_18_00600_08400.csv\n",
      "../object_detection/result/from_sakura/blah\\test_18_00600_09000.csv\n",
      "../object_detection/result/from_sakura/blah\\test_18_01200_01800.csv\n",
      "../object_detection/result/from_sakura/blah\\test_18_01200_03600.csv\n",
      "../object_detection/result/from_sakura/blah\\test_18_01200_04800.csv\n",
      "../object_detection/result/from_sakura/blah\\test_18_01200_05400.csv\n",
      "../object_detection/result/from_sakura/blah\\test_18_01800_01800.csv\n",
      "../object_detection/result/from_sakura/blah\\test_18_01800_03000.csv\n",
      "../object_detection/result/from_sakura/blah\\test_18_01800_06600.csv\n",
      "../object_detection/result/from_sakura/blah\\test_18_01800_07800.csv\n",
      "../object_detection/result/from_sakura/blah\\test_18_01800_09000.csv\n",
      "../object_detection/result/from_sakura/blah\\test_18_01800_10200.csv\n",
      "../object_detection/result/from_sakura/blah\\test_18_01800_10800.csv\n",
      "../object_detection/result/from_sakura/blah\\test_18_02400_01200.csv\n",
      "../object_detection/result/from_sakura/blah\\test_18_02400_03000.csv\n",
      "../object_detection/result/from_sakura/blah\\test_18_02400_10200.csv\n",
      "../object_detection/result/from_sakura/blah\\test_18_03000_02400.csv\n",
      "../object_detection/result/from_sakura/blah\\test_18_03000_04200.csv\n",
      "../object_detection/result/from_sakura/blah\\test_18_03000_04800.csv\n",
      "../object_detection/result/from_sakura/blah\\test_18_03000_06000.csv\n",
      "../object_detection/result/from_sakura/blah\\test_18_03000_07200.csv\n",
      "../object_detection/result/from_sakura/blah\\test_18_03000_09600.csv\n",
      "../object_detection/result/from_sakura/blah\\test_18_03000_10200.csv\n",
      "../object_detection/result/from_sakura/blah\\test_18_03600_03000.csv\n",
      "../object_detection/result/from_sakura/blah\\test_18_03600_03600.csv\n",
      "../object_detection/result/from_sakura/blah\\test_18_03600_04800.csv\n",
      "../object_detection/result/from_sakura/blah\\test_18_03600_05400.csv\n",
      "../object_detection/result/from_sakura/blah\\test_18_03600_06000.csv\n",
      "../object_detection/result/from_sakura/blah\\test_18_03600_07200.csv\n",
      "../object_detection/result/from_sakura/blah\\test_18_03600_12000.csv\n",
      "../object_detection/result/from_sakura/blah\\test_18_04200_01800.csv\n",
      "../object_detection/result/from_sakura/blah\\test_18_04200_03600.csv\n",
      "../object_detection/result/from_sakura/blah\\test_18_04200_06000.csv\n",
      "../object_detection/result/from_sakura/blah\\test_18_04200_06600.csv\n",
      "../object_detection/result/from_sakura/blah\\test_18_04200_09600.csv\n",
      "../object_detection/result/from_sakura/blah\\test_18_04200_10800.csv\n",
      "../object_detection/result/from_sakura/blah\\test_18_04200_11400.csv\n",
      "../object_detection/result/from_sakura/blah\\test_18_04200_12000.csv\n",
      "../object_detection/result/from_sakura/blah\\test_18_04800_07800.csv\n",
      "../object_detection/result/from_sakura/blah\\test_18_04800_09000.csv\n",
      "../object_detection/result/from_sakura/blah\\test_18_04800_09600.csv\n",
      "../object_detection/result/from_sakura/blah\\test_18_05400_08400.csv\n",
      "../object_detection/result/from_sakura/blah\\test_18_05400_09000.csv\n",
      "../object_detection/result/from_sakura/blah\\test_18_06000_01200.csv\n",
      "../object_detection/result/from_sakura/blah\\test_18_06000_09000.csv\n",
      "../object_detection/result/from_sakura/blah\\test_18_06000_09600.csv\n",
      "../object_detection/result/from_sakura/blah\\test_18_06000_10200.csv\n",
      "../object_detection/result/from_sakura/blah\\test_18_06000_10800.csv\n",
      "../object_detection/result/from_sakura/blah\\test_18_06600_07800.csv\n",
      "../object_detection/result/from_sakura/blah\\test_18_06600_10200.csv\n",
      "../object_detection/result/from_sakura/blah\\test_18_07200_01800.csv\n",
      "../object_detection/result/from_sakura/blah\\test_18_07200_02400.csv\n",
      "../object_detection/result/from_sakura/blah\\test_18_07200_03000.csv\n",
      "../object_detection/result/from_sakura/blah\\test_18_07200_04800.csv\n",
      "../object_detection/result/from_sakura/blah\\test_18_07200_06600.csv\n",
      "../object_detection/result/from_sakura/blah\\test_18_07200_07800.csv\n",
      "../object_detection/result/from_sakura/blah\\test_18_07200_09000.csv\n",
      "../object_detection/result/from_sakura/blah\\test_18_07200_09600.csv\n",
      "../object_detection/result/from_sakura/blah\\test_18_07800_03600.csv\n",
      "../object_detection/result/from_sakura/blah\\test_18_07800_04200.csv\n",
      "../object_detection/result/from_sakura/blah\\test_18_07800_04800.csv\n",
      "../object_detection/result/from_sakura/blah\\test_18_07800_05400.csv\n",
      "../object_detection/result/from_sakura/blah\\test_18_07800_06000.csv\n",
      "../object_detection/result/from_sakura/blah\\test_18_07800_06600.csv\n",
      "../object_detection/result/from_sakura/blah\\test_18_07800_08400.csv\n",
      "../object_detection/result/from_sakura/blah\\test_18_07800_09000.csv\n",
      "../object_detection/result/from_sakura/blah\\test_18_07800_09600.csv\n",
      "../object_detection/result/from_sakura/blah\\test_18_08400_03600.csv\n",
      "../object_detection/result/from_sakura/blah\\test_18_08400_06000.csv\n",
      "../object_detection/result/from_sakura/blah\\test_18_08400_06600.csv\n",
      "../object_detection/result/from_sakura/blah\\test_18_08400_07800.csv\n",
      "../object_detection/result/from_sakura/blah\\test_18_08400_08400.csv\n",
      "../object_detection/result/from_sakura/blah\\test_18_08400_09000.csv\n",
      "../object_detection/result/from_sakura/blah\\test_18_09000_07200.csv\n",
      "../object_detection/result/from_sakura/blah\\test_18_09000_09000.csv\n",
      "../object_detection/result/from_sakura/blah\\test_19_01800_05400.csv\n",
      "../object_detection/result/from_sakura/blah\\test_19_02400_03600.csv\n",
      "../object_detection/result/from_sakura/blah\\test_19_02400_04800.csv\n",
      "../object_detection/result/from_sakura/blah\\test_19_02400_05400.csv\n",
      "../object_detection/result/from_sakura/blah\\test_19_02400_07800.csv\n",
      "../object_detection/result/from_sakura/blah\\test_19_03000_05400.csv\n",
      "../object_detection/result/from_sakura/blah\\test_19_03600_05400.csv\n",
      "../object_detection/result/from_sakura/blah\\test_19_03600_07200.csv\n",
      "../object_detection/result/from_sakura/blah\\test_19_03600_07800.csv\n",
      "../object_detection/result/from_sakura/blah\\test_19_03600_12000.csv\n",
      "../object_detection/result/from_sakura/blah\\test_19_04200_09000.csv\n",
      "../object_detection/result/from_sakura/blah\\test_19_04200_10200.csv\n",
      "../object_detection/result/from_sakura/blah\\test_19_04800_10200.csv\n",
      "../object_detection/result/from_sakura/blah\\test_19_04800_11400.csv\n",
      "../object_detection/result/from_sakura/blah\\test_19_04800_12000.csv\n",
      "../object_detection/result/from_sakura/blah\\test_19_05400_11400.csv\n",
      "../object_detection/result/from_sakura/blah\\test_19_05400_12000.csv\n",
      "../object_detection/result/from_sakura/blah\\test_19_06000_10200.csv\n",
      "../object_detection/result/from_sakura/blah\\test_19_06600_10200.csv\n",
      "../object_detection/result/from_sakura/blah\\test_19_06600_10800.csv\n",
      "../object_detection/result/from_sakura/blah\\test_19_07200_07200.csv\n",
      "../object_detection/result/from_sakura/blah\\test_19_07200_08400.csv\n",
      "../object_detection/result/from_sakura/blah\\test_19_07200_09600.csv\n",
      "../object_detection/result/from_sakura/blah\\test_19_07800_03000.csv\n",
      "../object_detection/result/from_sakura/blah\\test_19_07800_03600.csv\n",
      "../object_detection/result/from_sakura/blah\\test_19_07800_04200.csv\n",
      "../object_detection/result/from_sakura/blah\\test_19_07800_07200.csv\n",
      "../object_detection/result/from_sakura/blah\\test_19_07800_07800.csv\n",
      "../object_detection/result/from_sakura/blah\\test_19_07800_08400.csv\n",
      "../object_detection/result/from_sakura/blah\\test_19_07800_09000.csv\n",
      "../object_detection/result/from_sakura/blah\\test_19_08400_06600.csv\n",
      "../object_detection/result/from_sakura/blah\\test_19_08400_07200.csv\n",
      "../object_detection/result/from_sakura/blah\\test_19_08400_07800.csv\n",
      "../object_detection/result/from_sakura/blah\\test_19_08400_09000.csv\n",
      "../object_detection/result/from_sakura/blah\\test_19_09000_07200.csv\n",
      "../object_detection/result/from_sakura/blah\\test_19_09000_11400.csv\n",
      "../object_detection/result/from_sakura/blah\\test_19_09600_11400.csv\n",
      "../object_detection/result/from_sakura/blah\\test_19_09600_12000.csv\n",
      "../object_detection/result/from_sakura/blah\\test_20_02400_08400.csv\n",
      "../object_detection/result/from_sakura/blah\\test_20_03600_07200.csv\n",
      "../object_detection/result/from_sakura/blah\\test_20_03600_07800.csv\n",
      "../object_detection/result/from_sakura/blah\\test_20_03600_10800.csv\n",
      "../object_detection/result/from_sakura/blah\\test_20_03600_12000.csv\n",
      "../object_detection/result/from_sakura/blah\\test_20_04200_03600.csv\n",
      "../object_detection/result/from_sakura/blah\\test_20_04200_10200.csv\n",
      "../object_detection/result/from_sakura/blah\\test_20_04200_10800.csv\n"
     ]
    },
    {
     "name": "stdout",
     "output_type": "stream",
     "text": [
      "../object_detection/result/from_sakura/blah\\test_20_04800_04200.csv\n",
      "../object_detection/result/from_sakura/blah\\test_20_04800_09600.csv\n",
      "../object_detection/result/from_sakura/blah\\test_20_04800_10200.csv\n",
      "../object_detection/result/from_sakura/blah\\test_20_04800_10800.csv\n",
      "../object_detection/result/from_sakura/blah\\test_20_05400_09600.csv\n",
      "../object_detection/result/from_sakura/blah\\test_20_05400_11400.csv\n",
      "../object_detection/result/from_sakura/blah\\test_20_05400_12000.csv\n",
      "../object_detection/result/from_sakura/blah\\test_20_06000_06600.csv\n",
      "../object_detection/result/from_sakura/blah\\test_20_06000_08400.csv\n",
      "../object_detection/result/from_sakura/blah\\test_20_06000_09000.csv\n",
      "../object_detection/result/from_sakura/blah\\test_20_06000_10200.csv\n",
      "../object_detection/result/from_sakura/blah\\test_20_06000_11400.csv\n",
      "../object_detection/result/from_sakura/blah\\test_20_06600_03000.csv\n",
      "../object_detection/result/from_sakura/blah\\test_20_06600_04200.csv\n",
      "../object_detection/result/from_sakura/blah\\test_20_06600_07800.csv\n",
      "../object_detection/result/from_sakura/blah\\test_20_06600_10200.csv\n",
      "../object_detection/result/from_sakura/blah\\test_20_06600_10800.csv\n",
      "../object_detection/result/from_sakura/blah\\test_20_07200_05400.csv\n",
      "../object_detection/result/from_sakura/blah\\test_20_07200_06600.csv\n",
      "../object_detection/result/from_sakura/blah\\test_20_07200_07200.csv\n",
      "../object_detection/result/from_sakura/blah\\test_20_07200_08400.csv\n",
      "../object_detection/result/from_sakura/blah\\test_20_07200_09600.csv\n",
      "../object_detection/result/from_sakura/blah\\test_20_07200_10200.csv\n",
      "../object_detection/result/from_sakura/blah\\test_20_07200_12000.csv\n",
      "../object_detection/result/from_sakura/blah\\test_20_07800_03600.csv\n",
      "../object_detection/result/from_sakura/blah\\test_20_07800_04200.csv\n",
      "../object_detection/result/from_sakura/blah\\test_20_07800_07200.csv\n",
      "../object_detection/result/from_sakura/blah\\test_20_07800_07800.csv\n",
      "../object_detection/result/from_sakura/blah\\test_20_07800_08400.csv\n",
      "../object_detection/result/from_sakura/blah\\test_20_07800_09000.csv\n",
      "../object_detection/result/from_sakura/blah\\test_20_07800_09600.csv\n",
      "../object_detection/result/from_sakura/blah\\test_20_07800_10200.csv\n",
      "../object_detection/result/from_sakura/blah\\test_20_07800_10800.csv\n",
      "../object_detection/result/from_sakura/blah\\test_20_08400_03000.csv\n",
      "../object_detection/result/from_sakura/blah\\test_20_08400_06600.csv\n",
      "../object_detection/result/from_sakura/blah\\test_20_08400_07200.csv\n",
      "../object_detection/result/from_sakura/blah\\test_20_08400_08400.csv\n",
      "../object_detection/result/from_sakura/blah\\test_20_08400_09000.csv\n",
      "../object_detection/result/from_sakura/blah\\test_20_08400_10200.csv\n",
      "../object_detection/result/from_sakura/blah\\test_20_09000_07200.csv\n",
      "../object_detection/result/from_sakura/blah\\test_20_09000_07800.csv\n",
      "../object_detection/result/from_sakura/blah\\test_20_09000_10800.csv\n",
      "../object_detection/result/from_sakura/blah\\test_20_09600_11400.csv\n",
      "../object_detection/result/from_sakura/blah\\test_20_10200_06000.csv\n",
      "../object_detection/result/from_sakura/blah\\test_20_10800_06000.csv\n",
      "../object_detection/result/from_sakura/blah\\test_20_11400_06600.csv\n",
      "../object_detection/result/from_sakura/blah\\test_20_11400_11400.csv\n",
      "../object_detection/result/from_sakura/blah\\test_20_12000_07200.csv\n"
     ]
    }
   ],
   "source": [
    "for j in range(0,len(test_labels)):\n",
    "    test = pd.read_csv(test_labels[j])\n",
    "    print(test_labels[j])\n",
    "    if len(test)>0:\n",
    "        file_name = test['filename'][0].split('\\\\')[-1].split('.')[0] + '.csv'\n",
    "        img_name = \"_\".join(file_name.split('_', 2)[:2])\n",
    "        x_add = test['filename'][0].split('\\\\')[-1].split('.')[0].split('_')[3]\n",
    "        y_add = test['filename'][0].split('\\\\')[-1].split('.')[0].split('_')[2]\n",
    "        i = 0\n",
    "        for i in range(0, len(test)):\n",
    "            test.iloc[i, 4] = test.iloc[i, 4] + int(x_add)\n",
    "            test.iloc[i, 5] = test.iloc[i, 5] + int(y_add)\n",
    "            test.iloc[i, 6] = test.iloc[i, 6] + int(x_add)\n",
    "            test.iloc[i, 7] = test.iloc[i, 7] + int(y_add)\n",
    "\n",
    "        if img_name == old_img_name:\n",
    "            test_df=test_df.append(test,ignore_index=True)\n",
    "#             print(test_df)\n",
    "            if j == len(test_labels)-1:\n",
    "                test_path_name = '../object_detection/result/final_large_csv/' + old_img_name + '.csv'\n",
    "                test_df.to_csv(test_path_name, index = False)    \n",
    "        else:\n",
    "            test_path_name = '../object_detection/result/final_large_csv/' + old_img_name + '.csv'\n",
    "            test_df.to_csv(test_path_name, index = False)\n",
    "            test_df = pd.DataFrame(columns= columns)\n",
    "            test_df=test_df.append(test,ignore_index=True)\n",
    "        \n",
    "        old_img_name = img_name"
   ]
  },
  {
   "cell_type": "code",
   "execution_count": null,
   "metadata": {},
   "outputs": [],
   "source": [
    "df = pd.read_csv(new_files[10])\n",
    "df"
   ]
  },
  {
   "cell_type": "code",
   "execution_count": null,
   "metadata": {},
   "outputs": [],
   "source": [
    "df['filename'][0].split('\\\\')[-1]"
   ]
  },
  {
   "cell_type": "code",
   "execution_count": null,
   "metadata": {},
   "outputs": [],
   "source": [
    "import cv2 as cv\n",
    "import pandas as pd\n",
    "import matplotlib.pyplot as plt\n",
    "%pylab inline"
   ]
  },
  {
   "cell_type": "code",
   "execution_count": null,
   "metadata": {},
   "outputs": [],
   "source": [
    "test_imgs= sorted(glob.glob('train_images/*.jpg'))\n",
    "full_test_labels = sorted(glob.glob('split_data/600/test_labels/*.csv'))\n",
    "print(len(test_imgs))\n",
    "print(len(full_test_labels))"
   ]
  },
  {
   "cell_type": "code",
   "execution_count": null,
   "metadata": {},
   "outputs": [],
   "source": [
    "test_imgs[0].split('\\\\')[-1]"
   ]
  },
  {
   "cell_type": "code",
   "execution_count": null,
   "metadata": {},
   "outputs": [],
   "source": [
    "for j in range(0, len(test_imgs)):\n",
    "    split_data = pd.read_csv(full_test_labels[j])\n",
    "    img = cv.imread(test_imgs[j])\n",
    "\n",
    "    for i in range(0,len(split_data)):\n",
    "        if (split_data['category'][i])==\"ship_not_moving\":\n",
    "    #         print(\"yellow\")\n",
    "            cv.rectangle(img,(split_data['x1'][i],split_data['y1'][i]),(split_data['x2'][i],split_data['y2'][i]),(255,255,0),3)\n",
    "\n",
    "        elif (split_data['category'][i])==\"ship_moving\":\n",
    "    #         print(\"green\")\n",
    "            cv.rectangle(img,(split_data['x1'][i],split_data['y1'][i]),(split_data['x2'][i],split_data['y2'][i]),(0,255,0),3)\n",
    "\n",
    "        elif (split_data['category'][i])==\"barge\":\n",
    "    #         print(\"red\")\n",
    "            cv.rectangle(img,(split_data['x1'][i],split_data['y1'][i]),(split_data['x2'][i],split_data['y2'][i]),(255,0,0),3)\n",
    "\n",
    "        else:\n",
    "    #         print(\"blue\")\n",
    "            cv.rectangle(img,(split_data['x1'][i],split_data['y1'][i]),(split_data['x2'][i],split_data['y2'][i]),(0,0,255),3)\n",
    "\n",
    "    height, width, nbands = img.shape\n",
    "    dpi=80\n",
    "    # What size does the figure need to be in inches to fit the image?\n",
    "    figsize = width / float(dpi), height / float(dpi)\n",
    "    fig = plt.figure(figsize=figsize)\n",
    "    ax = fig.add_axes([0, 0, 1, 1])\n",
    "    ax.axis('off')\n",
    "    # Display the image.\n",
    "    ax.imshow(img, interpolation='nearest')\n",
    "    ax.set(xlim=[0, width], ylim=[height, 0], aspect=1)\n",
    "    save_path = 'annotated_images/' + test_imgs[j].split('\\\\')[-1]\n",
    "    fig.savefig(save_path, dpi=dpi, transparent=True)"
   ]
  },
  {
   "cell_type": "code",
   "execution_count": null,
   "metadata": {
    "collapsed": true
   },
   "outputs": [],
   "source": [
    "import matplotlib.pyplot as plt\n",
    "%pylab inline\n",
    "# plt.imshow(img)"
   ]
  },
  {
   "cell_type": "code",
   "execution_count": null,
   "metadata": {
    "collapsed": true
   },
   "outputs": [],
   "source": [
    "height, width, nbands = img.shape\n",
    "dpi=80\n",
    "# What size does the figure need to be in inches to fit the image?\n",
    "figsize = width / float(dpi), height / float(dpi)\n",
    "fig = plt.figure(figsize=figsize)\n",
    "ax = fig.add_axes([0, 0, 1, 1])\n",
    "ax.axis('off')\n",
    "# Display the image.\n",
    "ax.imshow(img, interpolation='nearest')\n",
    "ax.set(xlim=[0, width], ylim=[height, 0], aspect=1)\n",
    "save_path = 'annotated_images/' + test_imgs[j].split('\\\\')[-1]\n",
    "fig.savefig(save_path, dpi=dpi, transparent=True)\n",
    "# plt.show()"
   ]
  },
  {
   "cell_type": "code",
   "execution_count": null,
   "metadata": {
    "collapsed": true
   },
   "outputs": [],
   "source": []
  }
 ],
 "metadata": {
  "kernelspec": {
   "display_name": "Python 3",
   "language": "python",
   "name": "python3"
  },
  "language_info": {
   "codemirror_mode": {
    "name": "ipython",
    "version": 3
   },
   "file_extension": ".py",
   "mimetype": "text/x-python",
   "name": "python",
   "nbconvert_exporter": "python",
   "pygments_lexer": "ipython3",
   "version": "3.6.2"
  }
 },
 "nbformat": 4,
 "nbformat_minor": 2
}
